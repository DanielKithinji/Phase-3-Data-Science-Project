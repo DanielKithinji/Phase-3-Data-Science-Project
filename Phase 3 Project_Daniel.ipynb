{
 "cells": [
  {
   "cell_type": "markdown",
   "metadata": {},
   "source": [
    "### 1.0 Project Title:\n",
    "\n",
    "-  Predicting Customer Churn rate for SyriaTel using Logistic Regression: Enhancing Customer Retention Strategies"
   ]
  },
  {
   "cell_type": "markdown",
   "metadata": {},
   "source": [
    "### 2.0 Business Understanding:\n"
   ]
  },
  {
   "cell_type": "markdown",
   "metadata": {},
   "source": [
    "### 2.1 Problem Statement:\n",
    "\n",
    "- SyriaTel, a leading telecommunications provider, faces significant financial challenges due to customer churn, where customers discontinue their services. Identifying customers at risk of churn is critical for implementing proactive retention strategies and maintaining revenue growth. The goal of this project is to develop a predictive classification model that analyzes customer data to determine the likelihood of churn. By leveraging historical data, including customer demographics, usage patterns, and service-related metrics, this model aims to uncover actionable insights and predictable patterns of customer behavior. This will enable SyriaTel to focus retention efforts on at-risk customers, minimize churn-related losses, and enhance customer satisfaction, ultimately driving business sustainability."
   ]
  },
  {
   "cell_type": "markdown",
   "metadata": {},
   "source": [
    "### 2.2 Stakeholder Understanding\n",
    "\n",
    "The Key Stakeholders interest in this project include:\n",
    "- Senior Management Team: The CEO and COO, as a stakeholder will benefit from understanding how churn affects revenue and in identifying strategies to retain customers.\n",
    "\n",
    "- Marketing and Business Development Teams: Will benefit from the insights of this predictive model by targeting customers at risk of with personalized campaigns to reduce churn.\n",
    "\n",
    "- Client Service & Support Team: In Understanding churn trends will enable the team to proactively address customer concerns before they decide to leave, through customer complaints and service issues.\n",
    "\n",
    "\n",
    "-  Customers: Improved customer retention strategies will lead to better service and tailored offers, for the members satisfaction"
   ]
  },
  {
   "cell_type": "markdown",
   "metadata": {},
   "source": [
    "### 3.0 Data Understanding"
   ]
  },
  {
   "cell_type": "markdown",
   "metadata": {},
   "source": [
    "Understanding the dataset is a crucial step to ensure the success of the churn prediction model:"
   ]
  },
  {
   "cell_type": "markdown",
   "metadata": {},
   "source": [
    "### 3.1 Dataset Overview\n",
    "\n",
    "### Dataset Insights:\n",
    "The SyriaTel dataset contains 3333 rows and 21 columns comprising of; 16 Numerical columns and 4 Categorical columns and 1 Boolean column. The dataset has four data types (integer, float, object and boolean)\n",
    "\n",
    "The Categorical columns includes: \n",
    "- State\n",
    "- Phone number\n",
    "- International plan\n",
    "- voice mail plan\n",
    "\n",
    "The Numerical columns includes:\n",
    "- account length,\n",
    "- area code,\n",
    "- number vmail messages,\n",
    "- total day minutes\n",
    "- total day calls,\n",
    "- total day charge,\n",
    "- total eve minutes,\n",
    "- total eve calls,\n",
    "- total eve charge\n",
    "- total night minutes\n",
    "- total night calls,\n",
    "- total night charge, \n",
    "- total intl minutes,\n",
    "- total intl calls, \n",
    "- total intl charge\n",
    "- customer service calls\n",
    "\n",
    "Boolean Target: churn.\n",
    "\n",
    "Given we are solving classification problem, our target variable is churn-  sincce it is a binary variable.\n",
    "No Missing Values: All columns have complete data.\n"
   ]
  },
  {
   "cell_type": "markdown",
   "metadata": {},
   "source": [
    "### Importing the required libraries"
   ]
  },
  {
   "cell_type": "code",
   "execution_count": 38,
   "metadata": {},
   "outputs": [],
   "source": [
    "import pandas as pd \n",
    "import seaborn as sns\n",
    "import numpy as np \n",
    "import  statsmodels.api as sm\n",
    "import matplotlib.pyplot as plt \n",
    "from sklearn.preprocessing import LabelEncoder\n",
    "from sklearn.linear_model import LinearRegression\n",
    "import pickle, sklearn\n",
    "from sklearn.model_selection import train_test_split, cross_val_score, KFold\n",
    "from sklearn.linear_model import LinearRegression, Ridge, Lasso\n",
    "from sklearn.preprocessing import FunctionTransformer, OneHotEncoder\n",
    "from sklearn.compose import ColumnTransformer, make_column_transformer\n",
    "from sklearn.metrics import mean_squared_error, r2_score\n",
    "from sklearn.model_selection import train_test_split\n",
    "from sklearn.preprocessing import StandardScaler \n",
    "from sklearn.linear_model import LogisticRegression\n",
    "from sklearn.metrics import accuracy_score, roc_curve, roc_auc_score\n",
    "from numbers import Number\n",
    "from sklearn.metrics import precision_score\n",
    "from sklearn.metrics import accuracy_score\n",
    "from sklearn.model_selection import train_test_split, GridSearchCV\n",
    "from sklearn.linear_model import LogisticRegression\n",
    "from sklearn.tree import DecisionTreeClassifier\n",
    "from sklearn.metrics import classification_report, confusion_matrix, roc_auc_score\n",
    "from sklearn.ensemble import RandomForestClassifier, GradientBoostingClassifier\n",
    "from sklearn.pipeline import Pipeline\n",
    "\n",
    "import warnings\n",
    "warnings.filterwarnings('ignore')"
   ]
  },
  {
   "cell_type": "markdown",
   "metadata": {},
   "source": [
    "### Loading Data From CSV file"
   ]
  },
  {
   "cell_type": "code",
   "execution_count": 39,
   "metadata": {},
   "outputs": [
    {
     "data": {
      "text/html": [
       "<div>\n",
       "<style scoped>\n",
       "    .dataframe tbody tr th:only-of-type {\n",
       "        vertical-align: middle;\n",
       "    }\n",
       "\n",
       "    .dataframe tbody tr th {\n",
       "        vertical-align: top;\n",
       "    }\n",
       "\n",
       "    .dataframe thead th {\n",
       "        text-align: right;\n",
       "    }\n",
       "</style>\n",
       "<table border=\"1\" class=\"dataframe\">\n",
       "  <thead>\n",
       "    <tr style=\"text-align: right;\">\n",
       "      <th></th>\n",
       "      <th>state</th>\n",
       "      <th>account length</th>\n",
       "      <th>area code</th>\n",
       "      <th>phone number</th>\n",
       "      <th>international plan</th>\n",
       "      <th>voice mail plan</th>\n",
       "      <th>number vmail messages</th>\n",
       "      <th>total day minutes</th>\n",
       "      <th>total day calls</th>\n",
       "      <th>total day charge</th>\n",
       "      <th>...</th>\n",
       "      <th>total eve calls</th>\n",
       "      <th>total eve charge</th>\n",
       "      <th>total night minutes</th>\n",
       "      <th>total night calls</th>\n",
       "      <th>total night charge</th>\n",
       "      <th>total intl minutes</th>\n",
       "      <th>total intl calls</th>\n",
       "      <th>total intl charge</th>\n",
       "      <th>customer service calls</th>\n",
       "      <th>churn</th>\n",
       "    </tr>\n",
       "  </thead>\n",
       "  <tbody>\n",
       "    <tr>\n",
       "      <th>0</th>\n",
       "      <td>KS</td>\n",
       "      <td>128</td>\n",
       "      <td>415</td>\n",
       "      <td>382-4657</td>\n",
       "      <td>no</td>\n",
       "      <td>yes</td>\n",
       "      <td>25</td>\n",
       "      <td>265.1</td>\n",
       "      <td>110</td>\n",
       "      <td>45.07</td>\n",
       "      <td>...</td>\n",
       "      <td>99</td>\n",
       "      <td>16.78</td>\n",
       "      <td>244.7</td>\n",
       "      <td>91</td>\n",
       "      <td>11.01</td>\n",
       "      <td>10.0</td>\n",
       "      <td>3</td>\n",
       "      <td>2.70</td>\n",
       "      <td>1</td>\n",
       "      <td>False</td>\n",
       "    </tr>\n",
       "    <tr>\n",
       "      <th>1</th>\n",
       "      <td>OH</td>\n",
       "      <td>107</td>\n",
       "      <td>415</td>\n",
       "      <td>371-7191</td>\n",
       "      <td>no</td>\n",
       "      <td>yes</td>\n",
       "      <td>26</td>\n",
       "      <td>161.6</td>\n",
       "      <td>123</td>\n",
       "      <td>27.47</td>\n",
       "      <td>...</td>\n",
       "      <td>103</td>\n",
       "      <td>16.62</td>\n",
       "      <td>254.4</td>\n",
       "      <td>103</td>\n",
       "      <td>11.45</td>\n",
       "      <td>13.7</td>\n",
       "      <td>3</td>\n",
       "      <td>3.70</td>\n",
       "      <td>1</td>\n",
       "      <td>False</td>\n",
       "    </tr>\n",
       "    <tr>\n",
       "      <th>2</th>\n",
       "      <td>NJ</td>\n",
       "      <td>137</td>\n",
       "      <td>415</td>\n",
       "      <td>358-1921</td>\n",
       "      <td>no</td>\n",
       "      <td>no</td>\n",
       "      <td>0</td>\n",
       "      <td>243.4</td>\n",
       "      <td>114</td>\n",
       "      <td>41.38</td>\n",
       "      <td>...</td>\n",
       "      <td>110</td>\n",
       "      <td>10.30</td>\n",
       "      <td>162.6</td>\n",
       "      <td>104</td>\n",
       "      <td>7.32</td>\n",
       "      <td>12.2</td>\n",
       "      <td>5</td>\n",
       "      <td>3.29</td>\n",
       "      <td>0</td>\n",
       "      <td>False</td>\n",
       "    </tr>\n",
       "    <tr>\n",
       "      <th>3</th>\n",
       "      <td>OH</td>\n",
       "      <td>84</td>\n",
       "      <td>408</td>\n",
       "      <td>375-9999</td>\n",
       "      <td>yes</td>\n",
       "      <td>no</td>\n",
       "      <td>0</td>\n",
       "      <td>299.4</td>\n",
       "      <td>71</td>\n",
       "      <td>50.90</td>\n",
       "      <td>...</td>\n",
       "      <td>88</td>\n",
       "      <td>5.26</td>\n",
       "      <td>196.9</td>\n",
       "      <td>89</td>\n",
       "      <td>8.86</td>\n",
       "      <td>6.6</td>\n",
       "      <td>7</td>\n",
       "      <td>1.78</td>\n",
       "      <td>2</td>\n",
       "      <td>False</td>\n",
       "    </tr>\n",
       "    <tr>\n",
       "      <th>4</th>\n",
       "      <td>OK</td>\n",
       "      <td>75</td>\n",
       "      <td>415</td>\n",
       "      <td>330-6626</td>\n",
       "      <td>yes</td>\n",
       "      <td>no</td>\n",
       "      <td>0</td>\n",
       "      <td>166.7</td>\n",
       "      <td>113</td>\n",
       "      <td>28.34</td>\n",
       "      <td>...</td>\n",
       "      <td>122</td>\n",
       "      <td>12.61</td>\n",
       "      <td>186.9</td>\n",
       "      <td>121</td>\n",
       "      <td>8.41</td>\n",
       "      <td>10.1</td>\n",
       "      <td>3</td>\n",
       "      <td>2.73</td>\n",
       "      <td>3</td>\n",
       "      <td>False</td>\n",
       "    </tr>\n",
       "  </tbody>\n",
       "</table>\n",
       "<p>5 rows × 21 columns</p>\n",
       "</div>"
      ],
      "text/plain": [
       "  state  account length  area code phone number international plan  \\\n",
       "0    KS             128        415     382-4657                 no   \n",
       "1    OH             107        415     371-7191                 no   \n",
       "2    NJ             137        415     358-1921                 no   \n",
       "3    OH              84        408     375-9999                yes   \n",
       "4    OK              75        415     330-6626                yes   \n",
       "\n",
       "  voice mail plan  number vmail messages  total day minutes  total day calls  \\\n",
       "0             yes                     25              265.1              110   \n",
       "1             yes                     26              161.6              123   \n",
       "2              no                      0              243.4              114   \n",
       "3              no                      0              299.4               71   \n",
       "4              no                      0              166.7              113   \n",
       "\n",
       "   total day charge  ...  total eve calls  total eve charge  \\\n",
       "0             45.07  ...               99             16.78   \n",
       "1             27.47  ...              103             16.62   \n",
       "2             41.38  ...              110             10.30   \n",
       "3             50.90  ...               88              5.26   \n",
       "4             28.34  ...              122             12.61   \n",
       "\n",
       "   total night minutes  total night calls  total night charge  \\\n",
       "0                244.7                 91               11.01   \n",
       "1                254.4                103               11.45   \n",
       "2                162.6                104                7.32   \n",
       "3                196.9                 89                8.86   \n",
       "4                186.9                121                8.41   \n",
       "\n",
       "   total intl minutes  total intl calls  total intl charge  \\\n",
       "0                10.0                 3               2.70   \n",
       "1                13.7                 3               3.70   \n",
       "2                12.2                 5               3.29   \n",
       "3                 6.6                 7               1.78   \n",
       "4                10.1                 3               2.73   \n",
       "\n",
       "   customer service calls  churn  \n",
       "0                       1  False  \n",
       "1                       1  False  \n",
       "2                       0  False  \n",
       "3                       2  False  \n",
       "4                       3  False  \n",
       "\n",
       "[5 rows x 21 columns]"
      ]
     },
     "execution_count": 39,
     "metadata": {},
     "output_type": "execute_result"
    }
   ],
   "source": [
    "df = pd.read_csv(\"G:\\My Drive\\Phase_3_Data_Science\\SyrialTel.csv\")\n",
    "df.head()\n"
   ]
  },
  {
   "cell_type": "markdown",
   "metadata": {},
   "source": [
    "### Overview of the dataset (checking datatypes, missing values and describing the dataset)"
   ]
  },
  {
   "cell_type": "code",
   "execution_count": 40,
   "metadata": {},
   "outputs": [
    {
     "name": "stdout",
     "output_type": "stream",
     "text": [
      "<class 'pandas.core.frame.DataFrame'>\n",
      "RangeIndex: 3333 entries, 0 to 3332\n",
      "Data columns (total 21 columns):\n",
      " #   Column                  Non-Null Count  Dtype  \n",
      "---  ------                  --------------  -----  \n",
      " 0   state                   3333 non-null   object \n",
      " 1   account length          3333 non-null   int64  \n",
      " 2   area code               3333 non-null   int64  \n",
      " 3   phone number            3333 non-null   object \n",
      " 4   international plan      3333 non-null   object \n",
      " 5   voice mail plan         3333 non-null   object \n",
      " 6   number vmail messages   3333 non-null   int64  \n",
      " 7   total day minutes       3333 non-null   float64\n",
      " 8   total day calls         3333 non-null   int64  \n",
      " 9   total day charge        3333 non-null   float64\n",
      " 10  total eve minutes       3333 non-null   float64\n",
      " 11  total eve calls         3333 non-null   int64  \n",
      " 12  total eve charge        3333 non-null   float64\n",
      " 13  total night minutes     3333 non-null   float64\n",
      " 14  total night calls       3333 non-null   int64  \n",
      " 15  total night charge      3333 non-null   float64\n",
      " 16  total intl minutes      3333 non-null   float64\n",
      " 17  total intl calls        3333 non-null   int64  \n",
      " 18  total intl charge       3333 non-null   float64\n",
      " 19  customer service calls  3333 non-null   int64  \n",
      " 20  churn                   3333 non-null   bool   \n",
      "dtypes: bool(1), float64(8), int64(8), object(4)\n",
      "memory usage: 524.2+ KB\n"
     ]
    }
   ],
   "source": [
    "# checking for the data datypes\n",
    "df.info()"
   ]
  },
  {
   "cell_type": "code",
   "execution_count": 41,
   "metadata": {},
   "outputs": [
    {
     "data": {
      "text/plain": [
       "state                      object\n",
       "account length              int64\n",
       "area code                   int64\n",
       "phone number               object\n",
       "international plan         object\n",
       "voice mail plan            object\n",
       "number vmail messages       int64\n",
       "total day minutes         float64\n",
       "total day calls             int64\n",
       "total day charge          float64\n",
       "total eve minutes         float64\n",
       "total eve calls             int64\n",
       "total eve charge          float64\n",
       "total night minutes       float64\n",
       "total night calls           int64\n",
       "total night charge        float64\n",
       "total intl minutes        float64\n",
       "total intl calls            int64\n",
       "total intl charge         float64\n",
       "customer service calls      int64\n",
       "churn                        bool\n",
       "dtype: object"
      ]
     },
     "execution_count": 41,
     "metadata": {},
     "output_type": "execute_result"
    }
   ],
   "source": [
    "df.dtypes"
   ]
  },
  {
   "cell_type": "code",
   "execution_count": 42,
   "metadata": {},
   "outputs": [
    {
     "name": "stdout",
     "output_type": "stream",
     "text": [
      "Number of rows: 3333\n",
      "Number of columns: 21\n",
      "Number of numerical columns: 16\n",
      "Number of categorical columns: 4\n",
      "Index(['state', 'phone number', 'international plan', 'voice mail plan'], dtype='object')\n",
      "Index(['account length', 'area code', 'number vmail messages',\n",
      "       'total day minutes', 'total day calls', 'total day charge',\n",
      "       'total eve minutes', 'total eve calls', 'total eve charge',\n",
      "       'total night minutes', 'total night calls', 'total night charge',\n",
      "       'total intl minutes', 'total intl calls', 'total intl charge',\n",
      "       'customer service calls'],\n",
      "      dtype='object')\n"
     ]
    }
   ],
   "source": [
    "# Checking the rows and columns of the SyrialTel Dataset\n",
    "print(f\"Number of rows: {df.shape[0]}\")\n",
    "print(f\"Number of columns: {df.shape[1]}\")\n",
    "\n",
    "# Checking number of numerical columns and categorical columns\n",
    "\n",
    "numerical_cols = df.select_dtypes(include=['number']).columns\n",
    "categorical_cols = df.select_dtypes(include=['object']).columns\n",
    "print(f\"Number of numerical columns: {len(numerical_cols)}\")\n",
    "print(f\"Number of categorical columns: {len(categorical_cols)}\")\n",
    "print(categorical_cols)\n",
    "print(numerical_cols)"
   ]
  },
  {
   "cell_type": "markdown",
   "metadata": {},
   "source": [
    "## Data Cleaning"
   ]
  },
  {
   "cell_type": "markdown",
   "metadata": {},
   "source": [
    "### Checking Missing values"
   ]
  },
  {
   "cell_type": "code",
   "execution_count": 43,
   "metadata": {},
   "outputs": [
    {
     "name": "stdout",
     "output_type": "stream",
     "text": [
      "state                     0\n",
      "account length            0\n",
      "area code                 0\n",
      "phone number              0\n",
      "international plan        0\n",
      "voice mail plan           0\n",
      "number vmail messages     0\n",
      "total day minutes         0\n",
      "total day calls           0\n",
      "total day charge          0\n",
      "total eve minutes         0\n",
      "total eve calls           0\n",
      "total eve charge          0\n",
      "total night minutes       0\n",
      "total night calls         0\n",
      "total night charge        0\n",
      "total intl minutes        0\n",
      "total intl calls          0\n",
      "total intl charge         0\n",
      "customer service calls    0\n",
      "churn                     0\n",
      "dtype: int64\n"
     ]
    }
   ],
   "source": [
    "print(df.isnull().sum())"
   ]
  },
  {
   "cell_type": "code",
   "execution_count": 44,
   "metadata": {},
   "outputs": [
    {
     "name": "stdout",
     "output_type": "stream",
     "text": [
      "there are no missing values in this dataset\n"
     ]
    }
   ],
   "source": [
    "print(\"there are no missing values in this dataset\")"
   ]
  },
  {
   "cell_type": "markdown",
   "metadata": {},
   "source": [
    "### Checking unique values "
   ]
  },
  {
   "cell_type": "code",
   "execution_count": 45,
   "metadata": {},
   "outputs": [
    {
     "name": "stdout",
     "output_type": "stream",
     "text": [
      "state: 51 unique values\n",
      "account length: 212 unique values\n",
      "area code: 3 unique values\n",
      "phone number: 3333 unique values\n",
      "international plan: 2 unique values\n",
      "voice mail plan: 2 unique values\n",
      "number vmail messages: 46 unique values\n",
      "total day minutes: 1667 unique values\n",
      "total day calls: 119 unique values\n",
      "total day charge: 1667 unique values\n",
      "total eve minutes: 1611 unique values\n",
      "total eve calls: 123 unique values\n",
      "total eve charge: 1440 unique values\n",
      "total night minutes: 1591 unique values\n",
      "total night calls: 120 unique values\n",
      "total night charge: 933 unique values\n",
      "total intl minutes: 162 unique values\n",
      "total intl calls: 21 unique values\n",
      "total intl charge: 162 unique values\n",
      "customer service calls: 10 unique values\n",
      "churn: 2 unique values\n"
     ]
    }
   ],
   "source": [
    "for col in df.columns:\n",
    "    print(f\"{col}: {df[col].nunique()} unique values\")"
   ]
  },
  {
   "cell_type": "markdown",
   "metadata": {},
   "source": [
    "### Checking for duplicates"
   ]
  },
  {
   "cell_type": "code",
   "execution_count": 46,
   "metadata": {},
   "outputs": [
    {
     "name": "stdout",
     "output_type": "stream",
     "text": [
      "0\n"
     ]
    }
   ],
   "source": [
    "df.duplicated().sum()\n",
    "print(df.duplicated().sum())"
   ]
  },
  {
   "cell_type": "markdown",
   "metadata": {},
   "source": [
    "### Comment : There are no duplicates values found in this SyriaTel dataset"
   ]
  },
  {
   "cell_type": "markdown",
   "metadata": {},
   "source": [
    "## Data Exploration and Visualization"
   ]
  },
  {
   "cell_type": "markdown",
   "metadata": {},
   "source": [
    "- This section will perform basic descriptive statistics on using the dataset and visualization of the data using Histogram, Count plot and correlation heatmap "
   ]
  },
  {
   "cell_type": "code",
   "execution_count": 47,
   "metadata": {},
   "outputs": [
    {
     "data": {
      "text/html": [
       "<div>\n",
       "<style scoped>\n",
       "    .dataframe tbody tr th:only-of-type {\n",
       "        vertical-align: middle;\n",
       "    }\n",
       "\n",
       "    .dataframe tbody tr th {\n",
       "        vertical-align: top;\n",
       "    }\n",
       "\n",
       "    .dataframe thead th {\n",
       "        text-align: right;\n",
       "    }\n",
       "</style>\n",
       "<table border=\"1\" class=\"dataframe\">\n",
       "  <thead>\n",
       "    <tr style=\"text-align: right;\">\n",
       "      <th></th>\n",
       "      <th>account length</th>\n",
       "      <th>area code</th>\n",
       "      <th>number vmail messages</th>\n",
       "      <th>total day minutes</th>\n",
       "      <th>total day calls</th>\n",
       "      <th>total day charge</th>\n",
       "      <th>total eve minutes</th>\n",
       "      <th>total eve calls</th>\n",
       "      <th>total eve charge</th>\n",
       "      <th>total night minutes</th>\n",
       "      <th>total night calls</th>\n",
       "      <th>total night charge</th>\n",
       "      <th>total intl minutes</th>\n",
       "      <th>total intl calls</th>\n",
       "      <th>total intl charge</th>\n",
       "      <th>customer service calls</th>\n",
       "    </tr>\n",
       "  </thead>\n",
       "  <tbody>\n",
       "    <tr>\n",
       "      <th>count</th>\n",
       "      <td>3333.000000</td>\n",
       "      <td>3333.000000</td>\n",
       "      <td>3333.000000</td>\n",
       "      <td>3333.000000</td>\n",
       "      <td>3333.000000</td>\n",
       "      <td>3333.000000</td>\n",
       "      <td>3333.000000</td>\n",
       "      <td>3333.000000</td>\n",
       "      <td>3333.000000</td>\n",
       "      <td>3333.000000</td>\n",
       "      <td>3333.000000</td>\n",
       "      <td>3333.000000</td>\n",
       "      <td>3333.000000</td>\n",
       "      <td>3333.000000</td>\n",
       "      <td>3333.000000</td>\n",
       "      <td>3333.000000</td>\n",
       "    </tr>\n",
       "    <tr>\n",
       "      <th>mean</th>\n",
       "      <td>101.064806</td>\n",
       "      <td>437.182418</td>\n",
       "      <td>8.099010</td>\n",
       "      <td>179.775098</td>\n",
       "      <td>100.435644</td>\n",
       "      <td>30.562307</td>\n",
       "      <td>200.980348</td>\n",
       "      <td>100.114311</td>\n",
       "      <td>17.083540</td>\n",
       "      <td>200.872037</td>\n",
       "      <td>100.107711</td>\n",
       "      <td>9.039325</td>\n",
       "      <td>10.237294</td>\n",
       "      <td>4.479448</td>\n",
       "      <td>2.764581</td>\n",
       "      <td>1.562856</td>\n",
       "    </tr>\n",
       "    <tr>\n",
       "      <th>std</th>\n",
       "      <td>39.822106</td>\n",
       "      <td>42.371290</td>\n",
       "      <td>13.688365</td>\n",
       "      <td>54.467389</td>\n",
       "      <td>20.069084</td>\n",
       "      <td>9.259435</td>\n",
       "      <td>50.713844</td>\n",
       "      <td>19.922625</td>\n",
       "      <td>4.310668</td>\n",
       "      <td>50.573847</td>\n",
       "      <td>19.568609</td>\n",
       "      <td>2.275873</td>\n",
       "      <td>2.791840</td>\n",
       "      <td>2.461214</td>\n",
       "      <td>0.753773</td>\n",
       "      <td>1.315491</td>\n",
       "    </tr>\n",
       "    <tr>\n",
       "      <th>min</th>\n",
       "      <td>1.000000</td>\n",
       "      <td>408.000000</td>\n",
       "      <td>0.000000</td>\n",
       "      <td>0.000000</td>\n",
       "      <td>0.000000</td>\n",
       "      <td>0.000000</td>\n",
       "      <td>0.000000</td>\n",
       "      <td>0.000000</td>\n",
       "      <td>0.000000</td>\n",
       "      <td>23.200000</td>\n",
       "      <td>33.000000</td>\n",
       "      <td>1.040000</td>\n",
       "      <td>0.000000</td>\n",
       "      <td>0.000000</td>\n",
       "      <td>0.000000</td>\n",
       "      <td>0.000000</td>\n",
       "    </tr>\n",
       "    <tr>\n",
       "      <th>25%</th>\n",
       "      <td>74.000000</td>\n",
       "      <td>408.000000</td>\n",
       "      <td>0.000000</td>\n",
       "      <td>143.700000</td>\n",
       "      <td>87.000000</td>\n",
       "      <td>24.430000</td>\n",
       "      <td>166.600000</td>\n",
       "      <td>87.000000</td>\n",
       "      <td>14.160000</td>\n",
       "      <td>167.000000</td>\n",
       "      <td>87.000000</td>\n",
       "      <td>7.520000</td>\n",
       "      <td>8.500000</td>\n",
       "      <td>3.000000</td>\n",
       "      <td>2.300000</td>\n",
       "      <td>1.000000</td>\n",
       "    </tr>\n",
       "    <tr>\n",
       "      <th>50%</th>\n",
       "      <td>101.000000</td>\n",
       "      <td>415.000000</td>\n",
       "      <td>0.000000</td>\n",
       "      <td>179.400000</td>\n",
       "      <td>101.000000</td>\n",
       "      <td>30.500000</td>\n",
       "      <td>201.400000</td>\n",
       "      <td>100.000000</td>\n",
       "      <td>17.120000</td>\n",
       "      <td>201.200000</td>\n",
       "      <td>100.000000</td>\n",
       "      <td>9.050000</td>\n",
       "      <td>10.300000</td>\n",
       "      <td>4.000000</td>\n",
       "      <td>2.780000</td>\n",
       "      <td>1.000000</td>\n",
       "    </tr>\n",
       "    <tr>\n",
       "      <th>75%</th>\n",
       "      <td>127.000000</td>\n",
       "      <td>510.000000</td>\n",
       "      <td>20.000000</td>\n",
       "      <td>216.400000</td>\n",
       "      <td>114.000000</td>\n",
       "      <td>36.790000</td>\n",
       "      <td>235.300000</td>\n",
       "      <td>114.000000</td>\n",
       "      <td>20.000000</td>\n",
       "      <td>235.300000</td>\n",
       "      <td>113.000000</td>\n",
       "      <td>10.590000</td>\n",
       "      <td>12.100000</td>\n",
       "      <td>6.000000</td>\n",
       "      <td>3.270000</td>\n",
       "      <td>2.000000</td>\n",
       "    </tr>\n",
       "    <tr>\n",
       "      <th>max</th>\n",
       "      <td>243.000000</td>\n",
       "      <td>510.000000</td>\n",
       "      <td>51.000000</td>\n",
       "      <td>350.800000</td>\n",
       "      <td>165.000000</td>\n",
       "      <td>59.640000</td>\n",
       "      <td>363.700000</td>\n",
       "      <td>170.000000</td>\n",
       "      <td>30.910000</td>\n",
       "      <td>395.000000</td>\n",
       "      <td>175.000000</td>\n",
       "      <td>17.770000</td>\n",
       "      <td>20.000000</td>\n",
       "      <td>20.000000</td>\n",
       "      <td>5.400000</td>\n",
       "      <td>9.000000</td>\n",
       "    </tr>\n",
       "  </tbody>\n",
       "</table>\n",
       "</div>"
      ],
      "text/plain": [
       "       account length    area code  number vmail messages  total day minutes  \\\n",
       "count     3333.000000  3333.000000            3333.000000        3333.000000   \n",
       "mean       101.064806   437.182418               8.099010         179.775098   \n",
       "std         39.822106    42.371290              13.688365          54.467389   \n",
       "min          1.000000   408.000000               0.000000           0.000000   \n",
       "25%         74.000000   408.000000               0.000000         143.700000   \n",
       "50%        101.000000   415.000000               0.000000         179.400000   \n",
       "75%        127.000000   510.000000              20.000000         216.400000   \n",
       "max        243.000000   510.000000              51.000000         350.800000   \n",
       "\n",
       "       total day calls  total day charge  total eve minutes  total eve calls  \\\n",
       "count      3333.000000       3333.000000        3333.000000      3333.000000   \n",
       "mean        100.435644         30.562307         200.980348       100.114311   \n",
       "std          20.069084          9.259435          50.713844        19.922625   \n",
       "min           0.000000          0.000000           0.000000         0.000000   \n",
       "25%          87.000000         24.430000         166.600000        87.000000   \n",
       "50%         101.000000         30.500000         201.400000       100.000000   \n",
       "75%         114.000000         36.790000         235.300000       114.000000   \n",
       "max         165.000000         59.640000         363.700000       170.000000   \n",
       "\n",
       "       total eve charge  total night minutes  total night calls  \\\n",
       "count       3333.000000          3333.000000        3333.000000   \n",
       "mean          17.083540           200.872037         100.107711   \n",
       "std            4.310668            50.573847          19.568609   \n",
       "min            0.000000            23.200000          33.000000   \n",
       "25%           14.160000           167.000000          87.000000   \n",
       "50%           17.120000           201.200000         100.000000   \n",
       "75%           20.000000           235.300000         113.000000   \n",
       "max           30.910000           395.000000         175.000000   \n",
       "\n",
       "       total night charge  total intl minutes  total intl calls  \\\n",
       "count         3333.000000         3333.000000       3333.000000   \n",
       "mean             9.039325           10.237294          4.479448   \n",
       "std              2.275873            2.791840          2.461214   \n",
       "min              1.040000            0.000000          0.000000   \n",
       "25%              7.520000            8.500000          3.000000   \n",
       "50%              9.050000           10.300000          4.000000   \n",
       "75%             10.590000           12.100000          6.000000   \n",
       "max             17.770000           20.000000         20.000000   \n",
       "\n",
       "       total intl charge  customer service calls  \n",
       "count        3333.000000             3333.000000  \n",
       "mean            2.764581                1.562856  \n",
       "std             0.753773                1.315491  \n",
       "min             0.000000                0.000000  \n",
       "25%             2.300000                1.000000  \n",
       "50%             2.780000                1.000000  \n",
       "75%             3.270000                2.000000  \n",
       "max             5.400000                9.000000  "
      ]
     },
     "execution_count": 47,
     "metadata": {},
     "output_type": "execute_result"
    }
   ],
   "source": [
    "# Data description to check the mode, median, mean and standard deviation of the data\n",
    "df.describe()"
   ]
  },
  {
   "cell_type": "markdown",
   "metadata": {},
   "source": [
    "## Visualization of numerical columns using Histogram"
   ]
  },
  {
   "cell_type": "code",
   "execution_count": 48,
   "metadata": {},
   "outputs": [],
   "source": [
    "### Identifying Top 8 numerical columns\n",
    "numerical_cols = df.select_dtypes(include=['number']).columns\n",
    "top_numerical_cols = df[numerical_cols].var().sort_values(ascending=False).head(8).index"
   ]
  },
  {
   "cell_type": "code",
   "execution_count": 49,
   "metadata": {},
   "outputs": [
    {
     "data": {
      "image/png": "[encoded data removed]",
      "text/plain": [
       "<Figure size 720x576 with 16 Axes>"
      ]
     },
     "metadata": {
      "needs_background": "light"
     },
     "output_type": "display_data"
    }
   ],
   "source": [
    "numerical_cols = df.select_dtypes(include=['number']).columns\n",
    "df[numerical_cols].hist(figsize=(10, 8))\n",
    "plt.suptitle('Histograms of Numerical Columns')\n",
    "plt.show()"
   ]
  },
  {
   "cell_type": "markdown",
   "metadata": {},
   "source": [
    "### Visualization of Identifying the outliers in numerical columns with use a Box Plox"
   ]
  },
  {
   "cell_type": "code",
   "execution_count": 50,
   "metadata": {},
   "outputs": [
    {
     "data": {
      "image/png": "[encoded data removed]",
      "text/plain": [
       "<Figure size 864x576 with 1 Axes>"
      ]
     },
     "metadata": {
      "needs_background": "light"
     },
     "output_type": "display_data"
    }
   ],
   "source": [
    "plt.figure(figsize=(12, 8))\n",
    "sns.boxplot(data=df[top_numerical_cols], orient='h')\n",
    "plt.title('Boxplots of Top 8 Numerical Columns')\n",
    "plt.show()"
   ]
  },
  {
   "cell_type": "markdown",
   "metadata": {},
   "source": [
    "### Visualization of Top 8 numerical columns with use Heatmap"
   ]
  },
  {
   "cell_type": "code",
   "execution_count": 51,
   "metadata": {},
   "outputs": [
    {
     "data": {
      "image/png": "[encoded data removed]",
      "text/plain": [
       "<Figure size 720x576 with 2 Axes>"
      ]
     },
     "metadata": {
      "needs_background": "light"
     },
     "output_type": "display_data"
    }
   ],
   "source": [
    "plt.figure(figsize=(10, 8))\n",
    "sns.heatmap(df[top_numerical_cols].corr(), annot=True, cmap='coolwarm', fmt='.2f')\n",
    "plt.title('Correlation Heatmap of Top 8 Numerical Columns')\n",
    "plt.show()"
   ]
  },
  {
   "cell_type": "markdown",
   "metadata": {},
   "source": [
    "### Converting the categorical column \"churn\" into numerical column"
   ]
  },
  {
   "cell_type": "code",
   "execution_count": 52,
   "metadata": {},
   "outputs": [],
   "source": [
    "# 'churn' is categorical like 'True'/'False', convert to 0/1\n",
    "df['churn'] = df['churn'].map({'True': 1, 'False': 0}).fillna(df['churn'])"
   ]
  },
  {
   "cell_type": "code",
   "execution_count": 53,
   "metadata": {},
   "outputs": [
    {
     "name": "stdout",
     "output_type": "stream",
     "text": [
      "Index(['account length', 'area code', 'number vmail messages',\n",
      "       'total day minutes', 'total day calls', 'total day charge',\n",
      "       'total eve minutes', 'total eve calls', 'total eve charge',\n",
      "       'total night minutes', 'total night calls', 'total night charge',\n",
      "       'total intl minutes', 'total intl calls', 'total intl charge',\n",
      "       'customer service calls'],\n",
      "      dtype='object')\n"
     ]
    }
   ],
   "source": [
    "numerical_cols = df.select_dtypes(include=['number']).columns\n",
    "print(numerical_cols)\n"
   ]
  },
  {
   "cell_type": "markdown",
   "metadata": {},
   "source": [
    "### Visualization of Churn to other numerical columns using Correlation Matrix:\n"
   ]
  },
  {
   "cell_type": "code",
   "execution_count": 54,
   "metadata": {},
   "outputs": [
    {
     "data": {
      "image/png": "[encoded data removed]",
      "text/plain": [
       "<Figure size 1080x576 with 2 Axes>"
      ]
     },
     "metadata": {
      "needs_background": "light"
     },
     "output_type": "display_data"
    }
   ],
   "source": [
    "correlation_matrix = df[numerical_cols].corr()\n",
    "plt.figure(figsize=(15, 8))\n",
    "sns.heatmap(correlation_matrix, annot=True, cmap='coolwarm', fmt='.2f', linewidths=0.5)\n",
    "plt.title('Correlation Matrix Showing Churn with Numerical Columns')\n",
    "plt.show()"
   ]
  },
  {
   "cell_type": "markdown",
   "metadata": {},
   "source": [
    "### Data Visualization of the Categorical Columns of the dataset"
   ]
  },
  {
   "cell_type": "code",
   "execution_count": 55,
   "metadata": {},
   "outputs": [
    {
     "data": {
      "image/png": "[encoded data removed]",
      "text/plain": [
       "<Figure size 1080x720 with 1 Axes>"
      ]
     },
     "metadata": {
      "needs_background": "light"
     },
     "output_type": "display_data"
    }
   ],
   "source": [
    "fig, ax = plt.subplots(figsize=(15, 10))\n",
    "churn_dist = df['churn'].value_counts(normalize=True) * 100\n",
    "ax = churn_dist.plot(kind='bar')\n",
    "ax.set_xlabel('churn')\n",
    "ax.set_title('churn, %')\n",
    "for p in ax.patches:\n",
    "    width, height = p.get_width(), p.get_height()\n",
    "    ax.annotate('{:.2f}%'.format(height), (p.get_x()+ 0.3 * width, p.get_y()+ 0.45 * height), color = 'yellow', weight = 'bold', size = 14)"
   ]
  },
  {
   "cell_type": "markdown",
   "metadata": {},
   "source": [
    "### Interpretation :\n",
    "- Target Variable Distribution:\n",
    "\n",
    "    85.5% of customers did not churn (False) WHILE \n",
    "    14.5% of customers churned (True).\n",
    "- The Count plot of Churn rate of SyriaTel shows dataset is unbalanced with only 14.49% of objects belonging to class 1\n"
   ]
  },
  {
   "cell_type": "markdown",
   "metadata": {},
   "source": [
    "### Preprocessing and Features Engineering:"
   ]
  },
  {
   "cell_type": "code",
   "execution_count": 56,
   "metadata": {},
   "outputs": [
    {
     "data": {
      "text/html": [
       "<div>\n",
       "<style scoped>\n",
       "    .dataframe tbody tr th:only-of-type {\n",
       "        vertical-align: middle;\n",
       "    }\n",
       "\n",
       "    .dataframe tbody tr th {\n",
       "        vertical-align: top;\n",
       "    }\n",
       "\n",
       "    .dataframe thead th {\n",
       "        text-align: right;\n",
       "    }\n",
       "</style>\n",
       "<table border=\"1\" class=\"dataframe\">\n",
       "  <thead>\n",
       "    <tr style=\"text-align: right;\">\n",
       "      <th></th>\n",
       "      <th>state</th>\n",
       "      <th>account length</th>\n",
       "      <th>area code</th>\n",
       "      <th>phone number</th>\n",
       "      <th>international plan</th>\n",
       "      <th>voice mail plan</th>\n",
       "      <th>number vmail messages</th>\n",
       "      <th>total day minutes</th>\n",
       "      <th>total day calls</th>\n",
       "      <th>total day charge</th>\n",
       "      <th>...</th>\n",
       "      <th>total eve calls</th>\n",
       "      <th>total eve charge</th>\n",
       "      <th>total night minutes</th>\n",
       "      <th>total night calls</th>\n",
       "      <th>total night charge</th>\n",
       "      <th>total intl minutes</th>\n",
       "      <th>total intl calls</th>\n",
       "      <th>total intl charge</th>\n",
       "      <th>customer service calls</th>\n",
       "      <th>churn</th>\n",
       "    </tr>\n",
       "  </thead>\n",
       "  <tbody>\n",
       "    <tr>\n",
       "      <th>0</th>\n",
       "      <td>KS</td>\n",
       "      <td>128</td>\n",
       "      <td>415</td>\n",
       "      <td>382-4657</td>\n",
       "      <td>no</td>\n",
       "      <td>yes</td>\n",
       "      <td>25</td>\n",
       "      <td>265.1</td>\n",
       "      <td>110</td>\n",
       "      <td>45.07</td>\n",
       "      <td>...</td>\n",
       "      <td>99</td>\n",
       "      <td>16.78</td>\n",
       "      <td>244.7</td>\n",
       "      <td>91</td>\n",
       "      <td>11.01</td>\n",
       "      <td>10.0</td>\n",
       "      <td>3</td>\n",
       "      <td>2.70</td>\n",
       "      <td>1</td>\n",
       "      <td>False</td>\n",
       "    </tr>\n",
       "    <tr>\n",
       "      <th>1</th>\n",
       "      <td>OH</td>\n",
       "      <td>107</td>\n",
       "      <td>415</td>\n",
       "      <td>371-7191</td>\n",
       "      <td>no</td>\n",
       "      <td>yes</td>\n",
       "      <td>26</td>\n",
       "      <td>161.6</td>\n",
       "      <td>123</td>\n",
       "      <td>27.47</td>\n",
       "      <td>...</td>\n",
       "      <td>103</td>\n",
       "      <td>16.62</td>\n",
       "      <td>254.4</td>\n",
       "      <td>103</td>\n",
       "      <td>11.45</td>\n",
       "      <td>13.7</td>\n",
       "      <td>3</td>\n",
       "      <td>3.70</td>\n",
       "      <td>1</td>\n",
       "      <td>False</td>\n",
       "    </tr>\n",
       "    <tr>\n",
       "      <th>2</th>\n",
       "      <td>NJ</td>\n",
       "      <td>137</td>\n",
       "      <td>415</td>\n",
       "      <td>358-1921</td>\n",
       "      <td>no</td>\n",
       "      <td>no</td>\n",
       "      <td>0</td>\n",
       "      <td>243.4</td>\n",
       "      <td>114</td>\n",
       "      <td>41.38</td>\n",
       "      <td>...</td>\n",
       "      <td>110</td>\n",
       "      <td>10.30</td>\n",
       "      <td>162.6</td>\n",
       "      <td>104</td>\n",
       "      <td>7.32</td>\n",
       "      <td>12.2</td>\n",
       "      <td>5</td>\n",
       "      <td>3.29</td>\n",
       "      <td>0</td>\n",
       "      <td>False</td>\n",
       "    </tr>\n",
       "    <tr>\n",
       "      <th>3</th>\n",
       "      <td>OH</td>\n",
       "      <td>84</td>\n",
       "      <td>408</td>\n",
       "      <td>375-9999</td>\n",
       "      <td>yes</td>\n",
       "      <td>no</td>\n",
       "      <td>0</td>\n",
       "      <td>299.4</td>\n",
       "      <td>71</td>\n",
       "      <td>50.90</td>\n",
       "      <td>...</td>\n",
       "      <td>88</td>\n",
       "      <td>5.26</td>\n",
       "      <td>196.9</td>\n",
       "      <td>89</td>\n",
       "      <td>8.86</td>\n",
       "      <td>6.6</td>\n",
       "      <td>7</td>\n",
       "      <td>1.78</td>\n",
       "      <td>2</td>\n",
       "      <td>False</td>\n",
       "    </tr>\n",
       "    <tr>\n",
       "      <th>4</th>\n",
       "      <td>OK</td>\n",
       "      <td>75</td>\n",
       "      <td>415</td>\n",
       "      <td>330-6626</td>\n",
       "      <td>yes</td>\n",
       "      <td>no</td>\n",
       "      <td>0</td>\n",
       "      <td>166.7</td>\n",
       "      <td>113</td>\n",
       "      <td>28.34</td>\n",
       "      <td>...</td>\n",
       "      <td>122</td>\n",
       "      <td>12.61</td>\n",
       "      <td>186.9</td>\n",
       "      <td>121</td>\n",
       "      <td>8.41</td>\n",
       "      <td>10.1</td>\n",
       "      <td>3</td>\n",
       "      <td>2.73</td>\n",
       "      <td>3</td>\n",
       "      <td>False</td>\n",
       "    </tr>\n",
       "  </tbody>\n",
       "</table>\n",
       "<p>5 rows × 21 columns</p>\n",
       "</div>"
      ],
      "text/plain": [
       "  state  account length  area code phone number international plan  \\\n",
       "0    KS             128        415     382-4657                 no   \n",
       "1    OH             107        415     371-7191                 no   \n",
       "2    NJ             137        415     358-1921                 no   \n",
       "3    OH              84        408     375-9999                yes   \n",
       "4    OK              75        415     330-6626                yes   \n",
       "\n",
       "  voice mail plan  number vmail messages  total day minutes  total day calls  \\\n",
       "0             yes                     25              265.1              110   \n",
       "1             yes                     26              161.6              123   \n",
       "2              no                      0              243.4              114   \n",
       "3              no                      0              299.4               71   \n",
       "4              no                      0              166.7              113   \n",
       "\n",
       "   total day charge  ...  total eve calls  total eve charge  \\\n",
       "0             45.07  ...               99             16.78   \n",
       "1             27.47  ...              103             16.62   \n",
       "2             41.38  ...              110             10.30   \n",
       "3             50.90  ...               88              5.26   \n",
       "4             28.34  ...              122             12.61   \n",
       "\n",
       "   total night minutes  total night calls  total night charge  \\\n",
       "0                244.7                 91               11.01   \n",
       "1                254.4                103               11.45   \n",
       "2                162.6                104                7.32   \n",
       "3                196.9                 89                8.86   \n",
       "4                186.9                121                8.41   \n",
       "\n",
       "   total intl minutes  total intl calls  total intl charge  \\\n",
       "0                10.0                 3               2.70   \n",
       "1                13.7                 3               3.70   \n",
       "2                12.2                 5               3.29   \n",
       "3                 6.6                 7               1.78   \n",
       "4                10.1                 3               2.73   \n",
       "\n",
       "   customer service calls  churn  \n",
       "0                       1  False  \n",
       "1                       1  False  \n",
       "2                       0  False  \n",
       "3                       2  False  \n",
       "4                       3  False  \n",
       "\n",
       "[5 rows x 21 columns]"
      ]
     },
     "execution_count": 56,
     "metadata": {},
     "output_type": "execute_result"
    }
   ],
   "source": [
    "df = pd.read_csv(\"G:\\My Drive\\Phase_3_Data_Science\\SyrialTel.csv\")\n",
    "df.head()"
   ]
  },
  {
   "cell_type": "code",
   "execution_count": 57,
   "metadata": {},
   "outputs": [
    {
     "name": "stdout",
     "output_type": "stream",
     "text": [
      "<class 'pandas.core.frame.DataFrame'>\n",
      "RangeIndex: 3333 entries, 0 to 3332\n",
      "Data columns (total 21 columns):\n",
      " #   Column                  Non-Null Count  Dtype  \n",
      "---  ------                  --------------  -----  \n",
      " 0   state                   3333 non-null   object \n",
      " 1   account length          3333 non-null   int64  \n",
      " 2   area code               3333 non-null   int64  \n",
      " 3   phone number            3333 non-null   object \n",
      " 4   international plan      3333 non-null   object \n",
      " 5   voice mail plan         3333 non-null   object \n",
      " 6   number vmail messages   3333 non-null   int64  \n",
      " 7   total day minutes       3333 non-null   float64\n",
      " 8   total day calls         3333 non-null   int64  \n",
      " 9   total day charge        3333 non-null   float64\n",
      " 10  total eve minutes       3333 non-null   float64\n",
      " 11  total eve calls         3333 non-null   int64  \n",
      " 12  total eve charge        3333 non-null   float64\n",
      " 13  total night minutes     3333 non-null   float64\n",
      " 14  total night calls       3333 non-null   int64  \n",
      " 15  total night charge      3333 non-null   float64\n",
      " 16  total intl minutes      3333 non-null   float64\n",
      " 17  total intl calls        3333 non-null   int64  \n",
      " 18  total intl charge       3333 non-null   float64\n",
      " 19  customer service calls  3333 non-null   int64  \n",
      " 20  churn                   3333 non-null   bool   \n",
      "dtypes: bool(1), float64(8), int64(8), object(4)\n",
      "memory usage: 524.2+ KB\n"
     ]
    }
   ],
   "source": [
    "df.info()"
   ]
  },
  {
   "cell_type": "markdown",
   "metadata": {},
   "source": [
    "### Droping the irrelevant features"
   ]
  },
  {
   "cell_type": "code",
   "execution_count": 58,
   "metadata": {},
   "outputs": [],
   "source": [
    "# Drop irrelevant features\n",
    "df_cleaned_syrialTel = df.drop(columns=[\"state\", \"phone number\"])"
   ]
  },
  {
   "cell_type": "markdown",
   "metadata": {},
   "source": [
    "### Encoding of the Categorical variables"
   ]
  },
  {
   "cell_type": "code",
   "execution_count": 59,
   "metadata": {},
   "outputs": [],
   "source": [
    "# Encode categorical variables\n",
    "categorical_columns = [\"international plan\", \"voice mail plan\"]\n",
    "encoder = LabelEncoder()\n",
    "for col in categorical_columns:\n",
    "    df_cleaned_syrialTel[col] = encoder.fit_transform(df_cleaned_syrialTel[col])"
   ]
  },
  {
   "cell_type": "markdown",
   "metadata": {},
   "source": [
    "### Defining the variables:"
   ]
  },
  {
   "cell_type": "code",
   "execution_count": 60,
   "metadata": {},
   "outputs": [],
   "source": [
    "# Separate features and target variable\n",
    "X = df_cleaned_syrialTel.drop(columns=[\"churn\"])\n",
    "y = df_cleaned_syrialTel[\"churn\"]"
   ]
  },
  {
   "cell_type": "code",
   "execution_count": 61,
   "metadata": {},
   "outputs": [],
   "source": [
    "# Split the data into training and test sets (80-20 split)\n",
    "X_train, X_test, y_train, y_test = train_test_split(X, y, test_size=0.2, random_state=42, stratify=y)"
   ]
  },
  {
   "cell_type": "code",
   "execution_count": 62,
   "metadata": {},
   "outputs": [
    {
     "data": {
      "text/plain": [
       "((2666, 18),\n",
       " (667, 18),\n",
       " False    0.855214\n",
       " True     0.144786\n",
       " Name: churn, dtype: float64,\n",
       " False    0.854573\n",
       " True     0.145427\n",
       " Name: churn, dtype: float64)"
      ]
     },
     "execution_count": 62,
     "metadata": {},
     "output_type": "execute_result"
    }
   ],
   "source": [
    "# Check the shape and distribution of the splits\n",
    "X_train.shape, X_test.shape, y_train.value_counts(normalize=True), y_test.value_counts(normalize=True)"
   ]
  },
  {
   "cell_type": "markdown",
   "metadata": {},
   "source": [
    "### Interpretation of Data Splitting Results:\n",
    "\n",
    "- The data has been successfully split into training and test sets:\n",
    "\n",
    "- Training Set: 2,666 samples, with 85.5% non-churn (False) and 14.5% churn (True).\n",
    "- Test Set: 667 samples, with similar proportions.\n",
    "\n",
    "- This confirms that the stratified split has preserved the class distribution."
   ]
  },
  {
   "cell_type": "markdown",
   "metadata": {},
   "source": [
    "## Model Building "
   ]
  },
  {
   "cell_type": "markdown",
   "metadata": {},
   "source": [
    "### Building the Baseline Model using Logistic Regression"
   ]
  },
  {
   "cell_type": "code",
   "execution_count": 63,
   "metadata": {},
   "outputs": [
    {
     "data": {
      "text/plain": [
       "LogisticRegression(class_weight='balanced', max_iter=1000, random_state=42)"
      ]
     },
     "execution_count": 63,
     "metadata": {},
     "output_type": "execute_result"
    }
   ],
   "source": [
    "baseline_model = LogisticRegression(random_state=42, max_iter=1000, class_weight='balanced')\n",
    "baseline_model.fit(X_train, y_train)"
   ]
  },
  {
   "cell_type": "code",
   "execution_count": 64,
   "metadata": {},
   "outputs": [],
   "source": [
    "# Perform predictions on the test set\n",
    "y_pred = baseline_model.predict(X_test)\n",
    "y_pred_proba = baseline_model.predict_proba(X_test)[:, 1]\n"
   ]
  },
  {
   "cell_type": "markdown",
   "metadata": {},
   "source": [
    "### Evaluate the performance of baseline model"
   ]
  },
  {
   "cell_type": "code",
   "execution_count": 65,
   "metadata": {},
   "outputs": [
    {
     "name": "stdout",
     "output_type": "stream",
     "text": [
      "\n",
      "Baseline Model Performance:\n",
      "              precision    recall  f1-score   support\n",
      "\n",
      "       False       0.94      0.76      0.84       570\n",
      "        True       0.34      0.73      0.46        97\n",
      "\n",
      "    accuracy                           0.75       667\n",
      "   macro avg       0.64      0.74      0.65       667\n",
      "weighted avg       0.86      0.75      0.78       667\n",
      "\n",
      "ROC-AUC Score: 0.8067100741544583\n"
     ]
    }
   ],
   "source": [
    "# Evaluation of baseline model\n",
    "print(\"\\nBaseline Model Performance:\")\n",
    "classification_report_baseline = classification_report(y_test, y_pred)\n",
    "roc_auc_baseline = roc_auc_score(y_test, y_pred_proba)\n",
    "print(classification_report(y_test, y_pred))\n",
    "print(\"ROC-AUC Score:\", roc_auc_score(y_test, y_pred_proba))"
   ]
  },
  {
   "cell_type": "markdown",
   "metadata": {},
   "source": [
    "## Interpretation of Results of Baseline Model Performance:\n",
    "Classification Report:\n",
    "- Precision: 94% for non-churn (False), 34% for churn (True).\n",
    "- Recall: 76% for non-churn, 72% for churn.\n",
    "- F1-Score: 84% for non-churn, 46% for churn.\n",
    "\n",
    "The overall accuracy is 75%.\n",
    "ROC-AUC: The model achieved an ROC-AUC score of 81%, indicating decent discrimination between churn and non-churn customers.\n",
    "\n",
    "Observations:\n",
    "- The model performs well for non-churn customers but struggles with predicting churn, as indicated by the low precision for the churn class.\n",
    "- The class imbalance impacts the precision and F1-score for the minority class"
   ]
  },
  {
   "cell_type": "markdown",
   "metadata": {},
   "source": [
    "## Scaling the numeric features and tuning the Logistic Regression model"
   ]
  },
  {
   "cell_type": "code",
   "execution_count": 66,
   "metadata": {},
   "outputs": [],
   "source": [
    "# Scale numeric features and tune hyperparameters\n",
    "scaler = StandardScaler()\n",
    "logistic = LogisticRegression(random_state=42, max_iter=1000, class_weight='balanced')"
   ]
  },
  {
   "cell_type": "code",
   "execution_count": 67,
   "metadata": {},
   "outputs": [],
   "source": [
    "# Create a pipeline for scaling and logistic regression\n",
    "pipeline = Pipeline([(\"scaler\", scaler), (\"logistic\", logistic)])"
   ]
  },
  {
   "cell_type": "code",
   "execution_count": 68,
   "metadata": {},
   "outputs": [
    {
     "data": {
      "text/plain": [
       "({'logistic__C': 0.1, 'logistic__solver': 'liblinear'}, 0.8179086994876469)"
      ]
     },
     "execution_count": 68,
     "metadata": {},
     "output_type": "execute_result"
    }
   ],
   "source": [
    "# Define hyperparameter grid for tuning\n",
    "param_grid = {\n",
    "    \"logistic__C\": [0.01, 0.1, 1, 10, 100],  # Regularization strength\n",
    "    \"logistic__solver\": [\"lbfgs\", \"liblinear\"]  # Solvers for logistic regression\n",
    "}\n",
    "\n",
    "# Grid search for best parameters\n",
    "grid_search = GridSearchCV(pipeline, param_grid, cv=5, scoring=\"roc_auc\", n_jobs=-1)\n",
    "grid_search.fit(X_train, y_train)\n",
    "\n",
    "# Best parameters and performance\n",
    "best_params = grid_search.best_params_\n",
    "best_model = grid_search.best_estimator_\n",
    "best_score = grid_search.best_score_\n",
    "\n",
    "best_params, best_score"
   ]
  },
  {
   "cell_type": "markdown",
   "metadata": {},
   "source": [
    "### Evaluate the Best Model"
   ]
  },
  {
   "cell_type": "code",
   "execution_count": 69,
   "metadata": {},
   "outputs": [
    {
     "name": "stdout",
     "output_type": "stream",
     "text": [
      "Classification Report:\n",
      "               precision    recall  f1-score   support\n",
      "\n",
      "       False       0.95      0.76      0.84       570\n",
      "        True       0.35      0.74      0.47        97\n",
      "\n",
      "    accuracy                           0.76       667\n",
      "   macro avg       0.65      0.75      0.66       667\n",
      "weighted avg       0.86      0.76      0.79       667\n",
      "\n",
      "Test ROC-AUC: 0.8151021884608427\n"
     ]
    }
   ],
   "source": [
    "# Best model\n",
    "best_model = grid_search.best_estimator_\n",
    "\n",
    "# Make predictions on the test set\n",
    "y_pred = best_model.predict(X_test)\n",
    "y_pred_proba = best_model.predict_proba(X_test)[:, 1]\n",
    "\n",
    "# Evaluate the model\n",
    "print(\"Classification Report:\\n\", classification_report(y_test, y_pred))\n",
    "print(\"Test ROC-AUC:\", roc_auc_score(y_test, y_pred_proba))"
   ]
  },
  {
   "cell_type": "markdown",
   "metadata": {},
   "source": [
    "## Interpretation of Results of Best Tuned Model Performance:"
   ]
  },
  {
   "cell_type": "markdown",
   "metadata": {},
   "source": [
    "Classification Report:\n",
    "- Precision: 95% for non-churn (False), 35% for churn (True).\n",
    "- Recall: 76% for non-churn, 74% for churn.\n",
    "- F1-Score: 84% for non-churn, 47% for churn.\n",
    "\n",
    "The overall accuracy is 76%.\n",
    "ROC-AUC: The model achieved an ROC-AUC score of 82%, indicating decent discrimination between churn and non-churn customers.\n",
    "The grid search optimized the C parameter (regularization strength) and the solver for logistic regression. These adjustments improved the model's ability to generalize by penalizing complexity and stabilizing optimization.\n",
    "\n",
    "Cross-Validated ROC-AUC:\n",
    "\n",
    "- The best model achieved a strong cross-validated ROC-AUC score (around ~0.81 as seen previously). This indicates the model's ability to discriminate between churn and non-churn customers is solid and consistent across the folds.\n",
    "\n",
    "Test Set Evaluation:\n",
    "\n",
    "- Metrics such as precision, recall, F1-score, and accuracy (likely calculated in the previous steps) showed improvement, particularly for the minority class (churn). \n",
    "- This improvement is critical in churn prediction, where correctly identifying the churners (true positives) is more valuable than non-churners.\n",
    "\n",
    "Observations:\n",
    "- Tuning the model has increased the overall accuracy rate by 1% \n",
    "- Improvement in Churn Detection:\n",
    "- The tuned model's recall (sensitivity) for the churn class is likely higher than the baseline model. This means the model can identify a larger proportion of actual churners."
   ]
  },
  {
   "cell_type": "markdown",
   "metadata": {},
   "source": [
    "### Visualization of Model Performance Using ROC Curve"
   ]
  },
  {
   "cell_type": "code",
   "execution_count": 70,
   "metadata": {},
   "outputs": [
    {
     "data": {
      "image/png": "[encoded data removed]",
      "text/plain": [
       "<Figure size 576x432 with 1 Axes>"
      ]
     },
     "metadata": {
      "needs_background": "light"
     },
     "output_type": "display_data"
    },
    {
     "data": {
      "image/png": "[encoded data removed]",
      "text/plain": [
       "<Figure size 576x432 with 1 Axes>"
      ]
     },
     "metadata": {
      "needs_background": "light"
     },
     "output_type": "display_data"
    }
   ],
   "source": [
    "# Function to plot ROC curve\n",
    "def plot_roc_curve(model, X_test, y_test, model_name):\n",
    "    # Generate predicted probabilities for the positive class\n",
    "    y_pred_proba = model.predict_proba(X_test)[:, 1]\n",
    "\n",
    "    # Calculate the ROC curve\n",
    "    fpr, tpr, _ = roc_curve(y_test, y_pred_proba)\n",
    "\n",
    "    # Calculate the AUC score\n",
    "    auc_score = roc_auc_score(y_test, y_pred_proba)\n",
    "\n",
    "    # Plot the ROC curve\n",
    "    plt.figure(figsize=(8, 6))\n",
    "    plt.plot(fpr, tpr, label=f\"{model_name} (AUC = {auc_score:.2f})\")\n",
    "    plt.plot([0, 1], [0, 1], color='red', linestyle='--', label=\"Random Guess\")\n",
    "    plt.xlabel(\"False Positive Rate\")\n",
    "    plt.ylabel(\"True Positive Rate\")\n",
    "    plt.title(f\"ROC Curve: {model_name}\")\n",
    "    plt.legend(loc=\"lower right\")\n",
    "    plt.grid()\n",
    "    plt.show()\n",
    "\n",
    "# Plot ROC curve for the baseline logistic regression model\n",
    "plot_roc_curve(baseline_model, X_test, y_test, \"Baseline Logistic Regression\")\n",
    "\n",
    "# Plot ROC curve for the tuned logistic regression model\n",
    "plot_roc_curve(best_model, X_test, y_test, \"Tuned Logistic Regression\")"
   ]
  },
  {
   "cell_type": "markdown",
   "metadata": {},
   "source": [
    "# Building the Model Using Decision Tree"
   ]
  },
  {
   "cell_type": "code",
   "execution_count": 71,
   "metadata": {},
   "outputs": [
    {
     "name": "stdout",
     "output_type": "stream",
     "text": [
      "Classification Report:\n",
      "               precision    recall  f1-score   support\n",
      "\n",
      "       False       0.94      0.94      0.94       570\n",
      "        True       0.66      0.66      0.66        97\n",
      "\n",
      "    accuracy                           0.90       667\n",
      "   macro avg       0.80      0.80      0.80       667\n",
      "weighted avg       0.90      0.90      0.90       667\n",
      "\n",
      "Test ROC-AUC: 0.8009495387954422\n"
     ]
    }
   ],
   "source": [
    "# Train a Decision Tree model with class weighting\n",
    "decision_tree = DecisionTreeClassifier(random_state=42, class_weight=\"balanced\")\n",
    "decision_tree.fit(X_train, y_train)\n",
    "\n",
    "# Make predictions\n",
    "y_pred_tree = decision_tree.predict(X_test)\n",
    "y_pred_proba_tree = decision_tree.predict_proba(X_test)[:, 1]\n",
    "\n",
    "# Evaluate the Decision Tree model\n",
    "classification_report_tree = classification_report(y_test, y_pred_tree)\n",
    "roc_auc_tree = roc_auc_score(y_test, y_pred_proba_tree)\n",
    "\n",
    "print(\"Classification Report:\\n\", classification_report(y_test, y_pred_tree))\n",
    "print(\"Test ROC-AUC:\", roc_auc_score(y_test, y_pred_proba_tree))\n"
   ]
  },
  {
   "cell_type": "markdown",
   "metadata": {},
   "source": [
    "### Interpretation of the Results of Prediction Model Developed Using Decision Tree:\n",
    "Classification Report:\n",
    "- Non-Churn (False): shows a Precision: 0.94, Recall: 0.94 and F1-Score: 0.94\n",
    "- Churn (True): Precision: 0.65, Recall: 0.66 and F1-Score: 0.66\n",
    "\n",
    "Overall Model Accuracy: 90%\n",
    "- Macro Average F1-Score: 0.80 (balanced performance across classes).\n",
    "- ROC-AUC:The Decision Tree achieved an ROC-AUC score of 0.80, reflecting its ability to differentiate between churn and non-churn customers.\n",
    "\n",
    "Observations:\n",
    "- The model performs well for the majority class (False) but struggles with the minority class (True), which is expected due to the tree's tendency to overfit small datasets"
   ]
  },
  {
   "cell_type": "markdown",
   "metadata": {},
   "source": [
    "## Application of Random Forest and a Gradient Boosting model"
   ]
  },
  {
   "cell_type": "markdown",
   "metadata": {},
   "source": [
    "### A. Train Model Using Random Forest"
   ]
  },
  {
   "cell_type": "code",
   "execution_count": 72,
   "metadata": {},
   "outputs": [
    {
     "name": "stdout",
     "output_type": "stream",
     "text": [
      "Classification Report:\n",
      "               precision    recall  f1-score   support\n",
      "\n",
      "       False       0.95      0.98      0.96       570\n",
      "        True       0.87      0.67      0.76        97\n",
      "\n",
      "    accuracy                           0.94       667\n",
      "   macro avg       0.91      0.83      0.86       667\n",
      "weighted avg       0.93      0.94      0.93       667\n",
      "\n",
      "Test ROC-AUC: 0.8966178332429011\n"
     ]
    }
   ],
   "source": [
    "# Train a Random Forest model with class weighting\n",
    "random_forest = RandomForestClassifier(random_state=42, class_weight=\"balanced\", n_estimators=100)\n",
    "random_forest.fit(X_train, y_train)\n",
    "\n",
    "# Make predictions\n",
    "y_pred_rf = random_forest.predict(X_test)\n",
    "y_pred_proba_rf = random_forest.predict_proba(X_test)[:, 1]\n",
    "\n",
    "# Evaluate the Random Forest model\n",
    "classification_report_rf = classification_report(y_test, y_pred_rf)\n",
    "roc_auc_rf = roc_auc_score(y_test, y_pred_proba_rf)\n",
    "print(\"Classification Report:\\n\", classification_report(y_test, y_pred_rf))\n",
    "print(\"Test ROC-AUC:\", roc_auc_score(y_test, y_pred_proba_rf))"
   ]
  },
  {
   "cell_type": "markdown",
   "metadata": {},
   "source": [
    "## Interpretation of Results For Random Forest Model Performance Evaluation:"
   ]
  },
  {
   "cell_type": "markdown",
   "metadata": {},
   "source": [
    "Random Forest Evaluation:\n",
    "Classification Report:\n",
    "\n",
    "Non-Churn (False):\n",
    "Precision: 0.95\n",
    "Recall: 0.98\n",
    "F1-Score: 0.97\n",
    "\n",
    "Churn (True):\n",
    "Precision: 0.87\n",
    "Recall: 0.69\n",
    "F1-Score: 0.77\n",
    "\n",
    "Overall Accuracy: 94%\n",
    "Macro Average F1-Score: 0.87 (better balance across classes compared to the Decision Tree).\n",
    "\n",
    "ROC-AUC: The Random Forest model achieved an ROC-AUC score of 0.90, significantly better than the Decision Tree.\n",
    "\n",
    "Observations:\n",
    "- Random Forest improves both precision and recall for the churn class compared to the Decision Tree.\n",
    "- The higher ROC-AUC indicates better discrimination between classes.\n",
    "- Random Forest benefits from ensembling, which reduces overfitting and enhances minority class performance."
   ]
  },
  {
   "cell_type": "markdown",
   "metadata": {},
   "source": [
    "## Training a Gradient Boosting model for Predicting Churn rate"
   ]
  },
  {
   "cell_type": "code",
   "execution_count": 73,
   "metadata": {},
   "outputs": [
    {
     "name": "stdout",
     "output_type": "stream",
     "text": [
      "Classification Report:\n",
      "               precision    recall  f1-score   support\n",
      "\n",
      "       False       0.95      0.98      0.97       570\n",
      "        True       0.85      0.71      0.78        97\n",
      "\n",
      "    accuracy                           0.94       667\n",
      "   macro avg       0.90      0.85      0.87       667\n",
      "weighted avg       0.94      0.94      0.94       667\n",
      "\n",
      "Test ROC-AUC: 0.887719298245614\n"
     ]
    }
   ],
   "source": [
    "# Train a Gradient Boosting model\n",
    "gradient_boosting = GradientBoostingClassifier(random_state=42)\n",
    "gradient_boosting.fit(X_train, y_train)\n",
    "\n",
    "# Make predictions\n",
    "y_pred_gb = gradient_boosting.predict(X_test)\n",
    "y_pred_proba_gb = gradient_boosting.predict_proba(X_test)[:, 1]\n",
    "\n",
    "# Evaluate the Gradient Boosting model\n",
    "classification_report_gb = classification_report(y_test, y_pred_gb)\n",
    "roc_auc_gb = roc_auc_score(y_test, y_pred_proba_gb)\n",
    "print(\"Classification Report:\\n\", classification_report(y_test, y_pred_gb))\n",
    "print(\"Test ROC-AUC:\", roc_auc_score(y_test, y_pred_proba_gb))"
   ]
  },
  {
   "cell_type": "markdown",
   "metadata": {},
   "source": [
    "### Interpretation of Gradient Boosting Model Performance Evaluation:\n",
    "Classification Report:\n",
    "\n",
    "Non-Churn (False):\n",
    "Precision: 0.95\n",
    "Recall: 0.98\n",
    "F1-Score: 0.97\n",
    "\n",
    "Churn (True):\n",
    "Precision: 0.85\n",
    "Recall: 0.71\n",
    "F1-Score: 0.78\n",
    "\n",
    "Overall Accuracy: 94%\n",
    "\n",
    "Macro Average F1-Score: 0.87 (similar to Random Forest).\n",
    "ROC-AUC: The Gradient Boosting model achieved an ROC-AUC score of 0.89, slightly lower than the Random Forest model.\n",
    "\n",
    "Observations:\n",
    "- Gradient Boosting has similar overall performance to Random Forest, with slightly lower ROC-AUC.\n",
    "- Precision and recall for the churn class are competitive but slightly lower than Random Forest.\n",
    "- Gradient Boosting excels at capturing complex patterns but might require tuning for optimal performance."
   ]
  },
  {
   "cell_type": "markdown",
   "metadata": {},
   "source": [
    "## Visualization of Model Performance Results of Decision Tree, Random Forest and Gradient Boosting Using ROC Curve"
   ]
  },
  {
   "cell_type": "code",
   "execution_count": 74,
   "metadata": {},
   "outputs": [
    {
     "data": {
      "image/png": "[encoded data removed]",
      "text/plain": [
       "<Figure size 720x576 with 1 Axes>"
      ]
     },
     "metadata": {
      "needs_background": "light"
     },
     "output_type": "display_data"
    }
   ],
   "source": [
    "# Function to plot ROC curves for multiple models\n",
    "def plot_combined_roc_curves(models, X_test, y_test, model_names):\n",
    "    plt.figure(figsize=(10, 8))\n",
    "    for model, name in zip(models, model_names):\n",
    "        # Generate predicted probabilities for the positive class\n",
    "        y_pred_proba = model.predict_proba(X_test)[:, 1]\n",
    "        # Calculate the ROC curve\n",
    "        fpr, tpr, _ = roc_curve(y_test, y_pred_proba)\n",
    "        # Calculate the AUC score\n",
    "        auc_score = roc_auc_score(y_test, y_pred_proba)\n",
    "        # Plot the ROC curve\n",
    "        plt.plot(fpr, tpr, label=f\"{name} (AUC = {auc_score:.2f})\")\n",
    "    \n",
    "    # Add a diagonal reference line\n",
    "    plt.plot([0, 1], [0, 1], color='red', linestyle='--', label=\"Random Guess\")\n",
    "    \n",
    "    # Labels and legend\n",
    "    plt.xlabel(\"False Positive Rate\")\n",
    "    plt.ylabel(\"True Positive Rate\")\n",
    "    plt.title(\"Comparison of ROC Curves\")\n",
    "    plt.legend(loc=\"lower right\")\n",
    "    plt.grid()\n",
    "    plt.show()\n",
    "\n",
    "# Models and their names\n",
    "models = [decision_tree, random_forest, gradient_boosting]\n",
    "model_names = [\"Decision Tree\", \"Random Forest\", \"Gradient Boosting\"]\n",
    "\n",
    "# Plot the ROC curves\n",
    "plot_combined_roc_curves(models, X_test, y_test, model_names)"
   ]
  },
  {
   "cell_type": "markdown",
   "metadata": {},
   "source": [
    "### Interpretation of the Decision Tree, Random Forest and Gradient Boosting ROC Curves\n",
    "\n",
    "Comparison of Models:\n",
    "1. Decision Tree:\n",
    "AUC ≈ 0.80: Indicates moderate discriminatory power.\n",
    "The curve is closer to the diagonal line compared to the other models, reflecting weaker performance in separating churners from non-churners.\n",
    "The model has more variability, as Decision Trees often overfit small datasets and struggle with generalization.\n",
    "2. Random Forest:\n",
    "AUC ≈ 0.90: Best performance among the three models.\n",
    "The curve is closer to the top-left corner, showing a higher true positive rate and lower false positive rate across thresholds.\n",
    "As an ensemble method, Random Forest averages multiple decision trees, reducing overfitting and improving robustness, particularly for the minority class (churn).\n",
    "\n",
    "3. Gradient Boosting:\n",
    "AUC ≈ 0.89: Close to Random Forest, indicating strong performance.\n",
    "Gradient Boosting learns sequentially and handles complex patterns well. However, it tends to slightly lag Random Forest when the dataset is not tuned optimally or has high class imbalance.\n",
    "The curve shape is similar to Random Forest but slightly lower, showing slightly reduced performance for distinguishing churners from non-churners.\n",
    "\n",
    "4. Insights and Observations:\n",
    "Random Forest performs slightly better than Gradient Boosting for this dataset, reflected by its higher AUC score and its curve being closer to the ideal top-left corner.\n",
    "Decision Tree, while simpler, has significantly lower performance due to its inability to generalize well without ensembling techniques.\n",
    "Both ensemble models (Random Forest and Gradient Boosting) handle the class imbalance better, with higher recall for the minority class (churn).\n",
    "\n",
    "Recommendation:\n",
    "Random Forest is the preferred model due to its:\n",
    "Highest AUC.\n",
    "Better balance of recall and precision for the churn class.\n",
    "Ability to handle class imbalance effectively.\n",
    "Gradient Boosting could also be a good choice, particularly if optimized further through hyperparameter tuning. Decision Trees are not recommended as a standalone model for this task."
   ]
  },
  {
   "cell_type": "markdown",
   "metadata": {},
   "source": [
    "### Model Comparison:\n",
    "- Decision Tree: Simple, interpretable, but struggles with the churn class (lower recall and AUC).\n",
    "- Random Forest: Best performance overall, with the highest ROC-AUC and strong recall for the churn class.\n",
    "- Gradient Boosting: Comparable to Random Forest but slightly less effective in this case."
   ]
  },
  {
   "cell_type": "markdown",
   "metadata": {},
   "source": [
    "## Recommendation:\n",
    "- Random Forest is the best choice for handling class imbalance and achieving strong performance across metrics.\n",
    "- Next steps could include hyperparameter tuning for both Random Forest and Gradient Boosting to further optimize performance."
   ]
  }
 ],
 "metadata": {
  "kernelspec": {
   "display_name": "learn-env",
   "language": "python",
   "name": "python3"
  },
  "language_info": {
   "codemirror_mode": {
    "name": "ipython",
    "version": 3
   },
   "file_extension": ".py",
   "mimetype": "text/x-python",
   "name": "python",
   "nbconvert_exporter": "python",
   "pygments_lexer": "ipython3",
   "version": "3.8.5"
  }
 },
 "nbformat": 4,
 "nbformat_minor": 2
}
